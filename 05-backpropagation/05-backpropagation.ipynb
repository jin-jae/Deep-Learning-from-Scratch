{
 "cells": [
  {
   "cell_type": "markdown",
   "metadata": {
    "collapsed": false
   },
   "source": [
    "신경망 가중치 매개변수의 기울기는 수치 미분 사용해서 구함 (시간이 오래 걸림)\n",
    "\n",
    "# 오차역전파법\n",
    "\n",
    "수식 (기계학습), 계산 그래프"
   ]
  },
  {
   "cell_type": "markdown",
   "metadata": {
    "collapsed": false
   },
   "source": [
    "# 계산 그래프\n",
    "\n",
    "계산 과정을 그래프로 나타낸 것\n",
    "\n",
    "1. 계산 그래프 구성\n",
    "2. 왼쪽에서 오른쪽으로 계산 진행 (순전파)\n",
    "\n",
    "## 국소적 계산\n",
    "\n",
    "국소적 계산 (자신과 직접 관계된 작은 범위)\n",
    "\n",
    "각 노드는 자신과 관련한 계산 외에는 신경쓸 것이 없음\n",
    "\n",
    "## 계산 그래프\n",
    "장점\n",
    "- 국소적 계산 (문제의 단순화)\n",
    "- 중간 계산 결과를 모두 보관\n",
    "- 순전파와 역전파를 통해 미분을 효율적으로 계산 가능"
   ]
  },
  {
   "cell_type": "markdown",
   "metadata": {
    "collapsed": false
   },
   "source": [
    "# 연쇄법칙\n",
    "\n",
    "역전파는 국소적인 미분을 반대 반향으로 전달 (연쇄법칙에 따른 것)\n",
    "\n",
    "## 역전파\n",
    "신호 노드의 국소적 미분(순전파 때 계산의 미분)을 곱한 후 다음 노드로 전달\n",
    "\n",
    "## 연쇄법칙\n",
    "합성 함수: 여러 함수로 구성된 함수\n",
    "\n",
    "합성 함수의 미분은 합성 함수를 구성하는 각 함수의 미분의 곱으로 나타낼 수 있음"
   ]
  },
  {
   "cell_type": "markdown",
   "metadata": {
    "collapsed": false
   },
   "source": [
    "# 역전파\n",
    "\n",
    "## 덧셈 노드\n",
    "덧셈 노드의 역전파는 1을 곱하기만 하고 입력된 값을 그대로 다음 노드로 보냄\n",
    "\n",
    "## 곱셈 노드\n",
    "입력 신호들을 서로 바꾼 값을 곱해서 보냄"
   ]
  },
  {
   "cell_type": "markdown",
   "metadata": {
    "collapsed": false
   },
   "source": [
    "# 계층 구현"
   ]
  },
  {
   "cell_type": "markdown",
   "metadata": {
    "collapsed": false
   },
   "source": [
    "## 곱셈 계층\n",
    "\n",
    "forward(): 순전파\n",
    "backward(): 역전파"
   ]
  },
  {
   "cell_type": "code",
   "execution_count": 1,
   "metadata": {
    "ExecuteTime": {
     "end_time": "2023-07-08T14:05:37.904634Z",
     "start_time": "2023-07-08T14:05:37.901138Z"
    },
    "collapsed": false
   },
   "outputs": [],
   "source": [
    "class MulLayer:\n",
    "    def __init__(self):\n",
    "        self.x = None\n",
    "        self.y = None\n",
    "\n",
    "    def forward(self, x, y):\n",
    "        self.x = x\n",
    "        self.y = y\n",
    "        out = x * y\n",
    "\n",
    "        return out\n",
    "\n",
    "    def backward(self, d_out):\n",
    "        dx = d_out * self.y\n",
    "        dy = d_out * self.x\n",
    "\n",
    "        return dx, dy"
   ]
  },
  {
   "cell_type": "code",
   "execution_count": 2,
   "metadata": {
    "ExecuteTime": {
     "end_time": "2023-07-08T14:08:27.139961Z",
     "start_time": "2023-07-08T14:08:27.129762Z"
    },
    "collapsed": false
   },
   "outputs": [
    {
     "name": "stdout",
     "output_type": "stream",
     "text": [
      "220.00000000000003\n"
     ]
    }
   ],
   "source": [
    "# 순전파 구현\n",
    "apple = 100\n",
    "apple_num = 2\n",
    "tax = 1.1\n",
    "\n",
    "mul_apple_layer = MulLayer()\n",
    "mul_tax_layer = MulLayer()\n",
    "\n",
    "# forward\n",
    "apple_price = mul_apple_layer.forward(apple, apple_num)\n",
    "price = mul_tax_layer.forward(apple_price, tax)\n",
    "\n",
    "print(price)"
   ]
  },
  {
   "cell_type": "code",
   "execution_count": 3,
   "metadata": {
    "ExecuteTime": {
     "end_time": "2023-07-08T14:10:26.119136Z",
     "start_time": "2023-07-08T14:10:26.111777Z"
    },
    "collapsed": false
   },
   "outputs": [
    {
     "name": "stdout",
     "output_type": "stream",
     "text": [
      "2.2 110.00000000000001 200\n"
     ]
    }
   ],
   "source": [
    "# 역전파 구현\n",
    "d_price = 1\n",
    "d_apple_price, d_tax = mul_tax_layer.backward(d_price)\n",
    "d_apple, d_apple_num = mul_apple_layer.backward(d_apple_price)\n",
    "\n",
    "print(d_apple, d_apple_num, d_tax)"
   ]
  },
  {
   "cell_type": "markdown",
   "metadata": {
    "collapsed": false
   },
   "source": [
    "## 덧셈 계층"
   ]
  },
  {
   "cell_type": "code",
   "execution_count": 4,
   "metadata": {
    "ExecuteTime": {
     "end_time": "2023-07-08T14:13:55.573966Z",
     "start_time": "2023-07-08T14:13:55.567196Z"
    },
    "collapsed": false
   },
   "outputs": [],
   "source": [
    "class AddLayer:\n",
    "    def __init__(self):\n",
    "        pass\n",
    "\n",
    "    def forward(self, x, y):\n",
    "        out = x + y\n",
    "        return out\n",
    "\n",
    "    def backward(self, d_out):\n",
    "        d_x = d_out * 1\n",
    "        d_y = d_out * 1\n",
    "        return d_x, d_y"
   ]
  },
  {
   "cell_type": "code",
   "execution_count": 5,
   "metadata": {
    "ExecuteTime": {
     "end_time": "2023-07-08T14:16:34.539077Z",
     "start_time": "2023-07-08T14:16:34.528549Z"
    },
    "collapsed": false
   },
   "outputs": [
    {
     "name": "stdout",
     "output_type": "stream",
     "text": [
      "200 450 650 715.0000000000001\n"
     ]
    }
   ],
   "source": [
    "# 순전파와 역전파\n",
    "apple = 100\n",
    "apple_num = 2\n",
    "orange = 150\n",
    "orange_num = 3\n",
    "tax = 1.1\n",
    "\n",
    "# 계층\n",
    "mul_apple_layer = MulLayer()\n",
    "mul_orange_layer = MulLayer()\n",
    "add_apple_orange_layer = AddLayer()\n",
    "mul_tax_layer = MulLayer()\n",
    "\n",
    "# forward\n",
    "apple_price = mul_apple_layer.forward(apple, apple_num)\n",
    "orange_price = mul_orange_layer.forward(orange, orange_num)\n",
    "all_price = add_apple_orange_layer.forward(apple_price, orange_price)\n",
    "price = mul_tax_layer.forward(all_price, tax)\n",
    "\n",
    "print(apple_price, orange_price, all_price, price)"
   ]
  },
  {
   "cell_type": "code",
   "execution_count": 6,
   "metadata": {
    "ExecuteTime": {
     "end_time": "2023-07-08T14:20:52.118549Z",
     "start_time": "2023-07-08T14:20:52.107102Z"
    },
    "collapsed": false
   },
   "outputs": [
    {
     "name": "stdout",
     "output_type": "stream",
     "text": [
      "110.00000000000001 2.2 3.3000000000000003 165.0 650\n"
     ]
    }
   ],
   "source": [
    "d_price = 1\n",
    "d_all_price, d_tax = mul_tax_layer.backward(d_price)\n",
    "d_apple_price, d_orange_price = add_apple_orange_layer.backward(d_all_price)\n",
    "d_orange, d_orange_num = mul_orange_layer.backward(d_orange_price)\n",
    "d_apple, d_apple_num = mul_apple_layer.backward(d_apple_price)\n",
    "\n",
    "print(d_apple_num, d_apple, d_orange, d_orange_num, d_tax)"
   ]
  },
  {
   "cell_type": "markdown",
   "metadata": {
    "collapsed": false
   },
   "source": [
    "# 활성화 함수 계층 구현\n",
    "\n",
    "## ReLU 계층\n",
    "```\n",
    "return x if x > 0 else 0\n",
    "```\n",
    "미분\n",
    "```\n",
    "return 1 if x > 0 else 0\n",
    "```"
   ]
  },
  {
   "cell_type": "code",
   "execution_count": 19,
   "metadata": {
    "ExecuteTime": {
     "end_time": "2023-08-14T06:39:47.341327Z",
     "start_time": "2023-08-14T06:39:47.333317Z"
    },
    "collapsed": false
   },
   "outputs": [],
   "source": [
    "class Relu:\n",
    "    def __init__(self):\n",
    "        self.mask = None\n",
    "\n",
    "    def forward(self, x):\n",
    "        self.mask = (x <= 0) # True, False로 구성된 numpy 배열\n",
    "        out = x.copy()\n",
    "        out[self.mask] = 0\n",
    "\n",
    "        return out\n",
    "\n",
    "    def backward(self, d_out):\n",
    "        d_out[self.mask] = 0\n",
    "        d_x = d_out\n",
    "\n",
    "        return d_x"
   ]
  },
  {
   "cell_type": "markdown",
   "metadata": {
    "collapsed": false
   },
   "source": [
    "전기회로 스위치와 유사한 원리(흐르고 있으면 ON, 아니면 OFF)"
   ]
  },
  {
   "cell_type": "markdown",
   "metadata": {
    "collapsed": false
   },
   "source": [
    "## Sigmoid 계층\n",
    "\n",
    "순전파: 입력 => x 를 -1과 곱함 => exp (지수 값 연산) => 1을 더함 => 1로 나눔 => 출력\n",
    "역전파: 출력 => 제곱 후 마이너스 => 그대로 => exp (지수 값 연산) => -1 곱함 => 입력\n",
    "\n",
    "계층 간소화\n",
    "순전파: sigmoid(x)\n",
    "역전파: y^2exp(-x) => y(1-y) # 순전파의 출력만으로 계산 가능!!"
   ]
  },
  {
   "cell_type": "code",
   "execution_count": 17,
   "metadata": {
    "ExecuteTime": {
     "end_time": "2023-08-14T06:36:38.847428Z",
     "start_time": "2023-08-14T06:36:38.838438Z"
    },
    "collapsed": false
   },
   "outputs": [],
   "source": [
    "import numpy as np\n",
    "\n",
    "class Sigmoid:\n",
    "    def __init__(self):\n",
    "        self.out = None\n",
    "\n",
    "    def forward(self, x):\n",
    "        self.out = 1 / (1 + np.exp(-x))\n",
    "\n",
    "        return self.out\n",
    "\n",
    "    def backward(self, d_out):\n",
    "        d_x = d_out * (1.0 - self.out) * self.out\n",
    "\n",
    "        return d_x"
   ]
  },
  {
   "cell_type": "markdown",
   "metadata": {
    "collapsed": false
   },
   "source": [
    "# Affine / Softmax 계층 구현\n",
    "\n",
    "## Affine 계층\n",
    "affine transformation(어파인 변환): 신경망의 순전파 때 수행하는 행렬의 곱\n",
    "순전파: X * W + B = Y\n",
    "역전파\n",
    " - X = Y * W^T\n",
    " - W = (X)^T * Y\n",
    "\n",
    "행렬의 형상에 주의: 행렬 곱에서 대응하는 차원의 원소 수 일치 작업"
   ]
  },
  {
   "cell_type": "markdown",
   "metadata": {
    "collapsed": false
   },
   "source": [
    "## 배치용 Affine 계층\n",
    "데이터 여러 개를 묶어서 순전파하는 경우"
   ]
  },
  {
   "cell_type": "code",
   "execution_count": 2,
   "metadata": {
    "ExecuteTime": {
     "end_time": "2023-08-02T07:09:34.501030Z",
     "start_time": "2023-08-02T07:09:34.411047Z"
    },
    "collapsed": false
   },
   "outputs": [],
   "source": [
    "import numpy as np\n",
    "\n",
    "X_dot_W = np.array([[0, 0, 0], [10, 10, 10]])\n",
    "B = np.array([1, 2, 3])"
   ]
  },
  {
   "cell_type": "code",
   "execution_count": 3,
   "metadata": {
    "ExecuteTime": {
     "end_time": "2023-08-02T07:09:47.907185Z",
     "start_time": "2023-08-02T07:09:47.888147Z"
    },
    "collapsed": false
   },
   "outputs": [
    {
     "data": {
      "text/plain": [
       "array([[ 1,  2,  3],\n",
       "       [11, 12, 13]])"
      ]
     },
     "execution_count": 3,
     "metadata": {},
     "output_type": "execute_result"
    }
   ],
   "source": [
    "X_dot_W + B"
   ]
  },
  {
   "cell_type": "code",
   "execution_count": 5,
   "metadata": {
    "ExecuteTime": {
     "end_time": "2023-08-02T07:10:18.304331Z",
     "start_time": "2023-08-02T07:10:18.299556Z"
    },
    "collapsed": false
   },
   "outputs": [
    {
     "data": {
      "text/plain": [
       "array([[1, 2, 3],\n",
       "       [4, 5, 6]])"
      ]
     },
     "execution_count": 5,
     "metadata": {},
     "output_type": "execute_result"
    }
   ],
   "source": [
    "# 순전파의 편향 덧셈\n",
    "dY = np.array([[1, 2, 3], [4, 5, 6]])\n",
    "\n",
    "dY"
   ]
  },
  {
   "cell_type": "code",
   "execution_count": 12,
   "metadata": {
    "ExecuteTime": {
     "end_time": "2023-08-02T07:11:13.792836Z",
     "start_time": "2023-08-02T07:11:13.787868Z"
    },
    "collapsed": false
   },
   "outputs": [
    {
     "data": {
      "text/plain": [
       "array([5, 7, 9])"
      ]
     },
     "execution_count": 12,
     "metadata": {},
     "output_type": "execute_result"
    }
   ],
   "source": [
    "dB = np.sum(dY, axis=0)\n",
    "\n",
    "dB"
   ]
  },
  {
   "cell_type": "markdown",
   "metadata": {
    "collapsed": false
   },
   "source": [
    "Affine 구현"
   ]
  },
  {
   "cell_type": "code",
   "execution_count": 20,
   "metadata": {
    "ExecuteTime": {
     "end_time": "2023-08-14T06:41:58.262348Z",
     "start_time": "2023-08-14T06:41:58.254351Z"
    },
    "collapsed": false
   },
   "outputs": [],
   "source": [
    "class Affine:\n",
    "    def __init__(self, W, b):\n",
    "        self.W = W\n",
    "        self.b = b\n",
    "        self.x = None\n",
    "        self.dW = None\n",
    "        self.db = None\n",
    "\n",
    "    def forward(self, x):\n",
    "        self.x = x\n",
    "        out = np.dot(x, self.W) + self.b\n",
    "\n",
    "        return out\n",
    "\n",
    "    def backward(self, d_out):\n",
    "        dx = np.dot(d_out, self.W.T)\n",
    "        self.dW = np.dot(self.x.T, d_out)\n",
    "        self.db = np.sum(d_out, axis=0)\n",
    "\n",
    "        return dx"
   ]
  },
  {
   "cell_type": "markdown",
   "metadata": {
    "collapsed": false
   },
   "source": [
    "## Softmax-with-Loss 계층\n",
    "\n",
    "Softmax: 입력값을 정규화하여 출력\n",
    "\n",
    "입력 이미지가 Affine 계층과 ReLU 계층을 통과하며 변환\n",
    "마지막 Softmax 계층에 의해 입력이 정규화\n",
    "\n",
    "Softmax에 교차 엔트로피 오차를 포함하여 구현"
   ]
  },
  {
   "cell_type": "markdown",
   "metadata": {
    "collapsed": false
   },
   "source": [
    "Softmax 계층: 입력을 정규화하여 출력\n",
    "Cross Entropy Error 계층: Softmax 출력과 정답 레이블을 받아서 손실 L 출력\n",
    "\n",
    "신경망의 출력이 정답 레이블과 가까워지도록 가중치 매개변수의 값을 조정\n",
    "(효율적으로 앞 계층에 전달하기 위해 '소프트맥스 함수'의 손실 함수로 '교차 엔트로피 오차'를 사용 -> 차가 직접적으로 전달됨)"
   ]
  },
  {
   "cell_type": "code",
   "execution_count": 21,
   "metadata": {
    "ExecuteTime": {
     "end_time": "2023-08-14T06:42:45.341782Z",
     "start_time": "2023-08-14T06:42:45.325567Z"
    },
    "collapsed": false
   },
   "outputs": [],
   "source": [
    "class SoftmaxWithLoss:\n",
    "    def __init__(self):\n",
    "        self.loss = None\n",
    "        self.y = None\n",
    "        self.t = None\n",
    "    \n",
    "    def forward(self, x, t):\n",
    "        self.t = t\n",
    "        self.y = softmax(x)\n",
    "        self.loss = cross_entropy_error(self.y, self.t)\n",
    "        return self.loss\n",
    "    \n",
    "    def backward(self, d_out=1):\n",
    "        batch_size = self.t.shape[0]\n",
    "        d_x = (self.y - self.t) / batch_size\n",
    "        return d_x"
   ]
  },
  {
   "cell_type": "markdown",
   "metadata": {
    "collapsed": false
   },
   "source": [
    "# 오차역전파법 구현\n",
    "\n",
    "## 신경망 학습의 전체 그림\n",
    "미니배치 -> 기울기 산출 -> 매개변수 갱신 -> 반복"
   ]
  },
  {
   "cell_type": "code",
   "execution_count": 4,
   "metadata": {
    "ExecuteTime": {
     "end_time": "2023-08-14T07:01:20.108578Z",
     "start_time": "2023-08-14T07:01:20.074470Z"
    },
    "collapsed": false
   },
   "outputs": [],
   "source": [
    "import sys, os\n",
    "sys.path.append(os.pardir)\n",
    "\n",
    "import numpy as np\n",
    "from libs.layers import *\n",
    "from collections import OrderedDict\n",
    "\n",
    "class TwoLayerNet:\n",
    "    def __init__(self, input_size, hidden_size, output_size, weight_init_std=0.01):\n",
    "        # initialize\n",
    "        self.params = {}\n",
    "        self.params[\"W1\"] = weight_init_std * np.random.randn(input_size, hidden_size)\n",
    "        self.params[\"b1\"] = np.zeros(hidden_size)\n",
    "        self.params[\"W2\"] = weight_init_std * np.random.randn(hidden_size, output_size)\n",
    "        self.params[\"b2\"] = np.zeros(output_size)\n",
    "        \n",
    "        # 계층 생성\n",
    "        self.layers = OrderedDict() # 순서가 있는 dictionary\n",
    "        self.layers[\"Affine1\"] = Affine(self.params[\"W1\"], self.params[\"b1\"])\n",
    "        self.layers[\"Relu1\"] = Relu()\n",
    "        self.layers[\"Affine2\"] = Affine(self.params[\"W2\"], self.params[\"b2\"])\n",
    "        \n",
    "        self.lastLayer = SoftmaxWithLoss()\n",
    "    \n",
    "    def predict(self, x):\n",
    "        for layer in self.layers.values():\n",
    "            x = layer.forward(x)\n",
    "            \n",
    "        return x\n",
    "    \n",
    "    # x: input data, t: label\n",
    "    def loss(self, x, t):\n",
    "        y = self.predict(x)\n",
    "        return self.lastLayer.forward(y, t)\n",
    "    \n",
    "    def accuracy(self, x, t):\n",
    "        y = self.predict(x)\n",
    "        y = np.argmax(y, axis=1)\n",
    "        if t.ndim != 1 : t = np.argmax(t, axis=1)\n",
    "        \n",
    "        accuracy = np.sum(y == t) / float(x.shape[0])\n",
    "        return accuracy\n",
    "    \n",
    "    def numerical_gradient(self, x, t):\n",
    "        loss_W = lambda W: self.loss(x, t)\n",
    "        \n",
    "        grads = {}\n",
    "        grads[\"W1\"] = numerical_gradient(loss_W, self.params[\"W1\"])\n",
    "        grads[\"b1\"] = numerical_gradient(loss_W, self.params[\"b1\"])\n",
    "        grads[\"W2\"] = numerical_gradient(loss_W, self.params[\"W2\"])\n",
    "        grads[\"b2\"] = numerical_gradient(loss_W, self.params[\"b2\"])\n",
    "        return grads\n",
    "    \n",
    "    def gradient(self, x, t):\n",
    "        # 순전파\n",
    "        self.loss(x, t)\n",
    "        \n",
    "        d_out = 1\n",
    "        d_out = self.lastLayer.backward(d_out)\n",
    "        \n",
    "        layers = list(self.layers.values())\n",
    "        layers.reverse()\n",
    "        for layer in layers:\n",
    "            d_out = layer.backward(d_out)\n",
    "        \n",
    "        grads = {}\n",
    "        grads[\"W1\"] = self.layers[\"Affine1\"].dW\n",
    "        grads[\"b1\"] = self.layers[\"Affine1\"].db\n",
    "        grads[\"W2\"] = self.layers[\"Affine2\"].dW\n",
    "        grads[\"b2\"] = self.layers[\"Affine2\"].db\n",
    "        \n",
    "        return grads"
   ]
  },
  {
   "cell_type": "markdown",
   "metadata": {
    "collapsed": false
   },
   "source": [
    "## 오차역전파법으로 구한 기울기 검증\n",
    "기울기를 구하는 방법: 수치 미분 (느림), 해석적 수식 (오차역전파법, 매개변수가 많아도 효율적으로 계산 가능)\n",
    "수치 미분은 정확히 구현했는지 확인하는 데에 사용"
   ]
  },
  {
   "cell_type": "code",
   "execution_count": 7,
   "metadata": {
    "ExecuteTime": {
     "end_time": "2023-08-14T07:49:42.222537Z",
     "start_time": "2023-08-14T07:49:42.197047Z"
    },
    "collapsed": false
   },
   "outputs": [
    {
     "name": "stdout",
     "output_type": "stream",
     "text": [
      "W1: 4.050495633426916e-10\n",
      "b1: 2.6666336826686664e-09\n",
      "W2: 6.024618149412891e-09\n",
      "b2: 1.405530836010027e-07\n"
     ]
    }
   ],
   "source": [
    "import sys, os\n",
    "sys.path.append(os.pardir)\n",
    "\n",
    "import numpy as np\n",
    "from datasets.mnist import load_mnist\n",
    "from libs.layers import TwoLayerNet\n",
    "\n",
    "(X_train, y_train), (X_test, y_test) = load_mnist(normalize=True, one_hot_label=True)\n",
    "\n",
    "network = TwoLayerNet(input_size=784, hidden_size=50, output_size=10)\n",
    "\n",
    "X_batch = X_train[:3]\n",
    "y_batch = y_train[:3]\n",
    "\n",
    "grad_numerical = network.numerical_gradient(X_batch, y_batch)\n",
    "grad_backprop = network.gradient(X_batch, y_batch)\n",
    "\n",
    "for key in grad_numerical.keys():\n",
    "    diff = np.average(np.abs(grad_backprop[key] - grad_numerical[key]))\n",
    "    print(key + \": \" + str(diff))"
   ]
  },
  {
   "cell_type": "markdown",
   "source": [
    "## 오차역전파법 사용 학습 구현"
   ],
   "metadata": {
    "collapsed": false
   }
  },
  {
   "cell_type": "code",
   "execution_count": 1,
   "outputs": [
    {
     "name": "stdout",
     "output_type": "stream",
     "text": [
      "0.09708333333333333 0.0978\n",
      "0.9025 0.9066\n",
      "0.925 0.9243\n",
      "0.9347666666666666 0.9337\n",
      "0.9435666666666667 0.9423\n",
      "0.94565 0.945\n",
      "0.9552833333333334 0.9534\n",
      "0.95905 0.9562\n",
      "0.9626166666666667 0.9604\n",
      "0.9653333333333334 0.9607\n",
      "0.9684166666666667 0.9636\n",
      "0.971 0.9669\n",
      "0.9736166666666667 0.9673\n",
      "0.9745166666666667 0.9684\n",
      "0.9767666666666667 0.9694\n",
      "0.9781166666666666 0.9701\n",
      "0.9771166666666666 0.9696\n"
     ]
    }
   ],
   "source": [
    "import numpy as np\n",
    "from datasets.mnist import load_mnist\n",
    "from libs.layers import TwoLayerNet\n",
    "\n",
    "(X_train, y_train), (X_test, y_test) = load_mnist(normalize=True, one_hot_label=True)\n",
    "network = TwoLayerNet(input_size=784, hidden_size=50, output_size=10)\n",
    "\n",
    "iters_num = 10000\n",
    "train_size = X_train.shape[0]\n",
    "batch_size = 100\n",
    "learning_rate = 0.1\n",
    "\n",
    "train_loss_list = []\n",
    "train_acc_list = []\n",
    "test_acc_list = []\n",
    "\n",
    "iter_per_epoch = max(train_size / batch_size, 1)\n",
    "\n",
    "for i in range(iters_num):\n",
    "    batch_mask = np.random.choice(train_size, batch_size)\n",
    "    X_batch = X_train[batch_mask]\n",
    "    y_batch = y_train[batch_mask]\n",
    "    \n",
    "    # solve gradient\n",
    "    grad = network.gradient(X_batch, y_batch)\n",
    "    \n",
    "    for key in (\"W1\", \"b1\", \"W2\", \"b2\"):\n",
    "        network.params[key] -= learning_rate * grad[key]\n",
    "    \n",
    "    loss = network.loss(X_batch, y_batch)\n",
    "    train_loss_list.append(loss)\n",
    "    \n",
    "    if i % iter_per_epoch == 0:\n",
    "        train_acc = network.accuracy(X_train, y_train)\n",
    "        test_acc = network.accuracy(X_test, y_test)\n",
    "        train_acc_list.append(train_acc)\n",
    "        test_acc_list.append(test_acc)\n",
    "        print(train_acc, test_acc)"
   ],
   "metadata": {
    "collapsed": false,
    "ExecuteTime": {
     "end_time": "2023-08-21T13:50:59.983242Z",
     "start_time": "2023-08-21T13:50:09.987631Z"
    }
   }
  },
  {
   "cell_type": "code",
   "execution_count": null,
   "outputs": [],
   "source": [],
   "metadata": {
    "collapsed": false
   }
  }
 ],
 "metadata": {
  "kernelspec": {
   "display_name": "Python 3",
   "language": "python",
   "name": "python3"
  },
  "language_info": {
   "codemirror_mode": {
    "name": "ipython",
    "version": 3
   },
   "file_extension": ".py",
   "mimetype": "text/x-python",
   "name": "python",
   "nbconvert_exporter": "python",
   "pygments_lexer": "ipython3",
   "version": "3.10.11"
  }
 },
 "nbformat": 4,
 "nbformat_minor": 0
}
